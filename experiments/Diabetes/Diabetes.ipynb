{
 "cells": [
  {
   "cell_type": "code",
   "execution_count": 1,
   "metadata": {},
   "outputs": [],
   "source": [
    "import numpy as np\n",
    "import pandas as pd\n",
    "import matplotlib.pyplot as plt\n",
    "import sys\n",
    "import os\n",
    "sys.path.append(os.path.join(\"./\", \"..\", \"..\"))"
   ]
  },
  {
   "cell_type": "code",
   "execution_count": 2,
   "metadata": {},
   "outputs": [],
   "source": [
    "# data_path = './../../Data/diabetes/'\n",
    "# X = pd.read_csv(data_path + 'diabetes.csv', usecols = ['Pregnancies', 'Glucose', 'BloodPressure', 'SkinThickness', 'Insulin',\n",
    "#        'BMI', 'DiabetesPedigreeFunction', 'Age']).to_numpy()\n",
    "\n",
    "# y = pd.read_csv(data_path + 'diabetes.csv', usecols = ['Outcome']).to_numpy()\n",
    "\n",
    "# X = X - np.min(X, axis = 0)\n",
    "# X = X / np.max(X, axis = 0)\n",
    "\n",
    "\n",
    "# np.savetxt(data_path + \"X.tsv\", X, delimiter=\"\\t\")\n",
    "# np.savetxt(data_path + \"y.tsv\", y, delimiter=\"\\t\")\n",
    "\n"
   ]
  },
  {
   "cell_type": "code",
   "execution_count": 2,
   "metadata": {},
   "outputs": [],
   "source": [
    "config_path = './../../configs/vae.json'\n",
    "import json\n",
    "from types import SimpleNamespace\n",
    "config = SimpleNamespace(**json.load(open(config_path, 'r')))"
   ]
  },
  {
   "cell_type": "code",
   "execution_count": 3,
   "metadata": {},
   "outputs": [
    {
     "data": {
      "text/plain": [
       "namespace(features_path='./Reproduction/Housing/Data/X.tsv',\n",
       "          labels_path='./Reproduction/Housing/Data/y.tsv',\n",
       "          model_dir='./Models/',\n",
       "          batch_size=128,\n",
       "          min_epochs=200,\n",
       "          stopping_epochs=25,\n",
       "          tol=0.001,\n",
       "          eval_freq=1,\n",
       "          lr=0.001)"
      ]
     },
     "execution_count": 3,
     "metadata": {},
     "output_type": "execute_result"
    }
   ],
   "source": [
    "config"
   ]
  },
  {
   "cell_type": "code",
   "execution_count": 4,
   "metadata": {},
   "outputs": [],
   "source": [
    "data_path = './../../Data/diabetes/diabetes.csv'\n",
    "config.features_path = data_path + \"X.tsv\"\n",
    "config.labels_path = data_path + \"y.tsv\"\n",
    "config.model_dir = './../../Models'\n",
    "config.dataset = \"diabetes\""
   ]
  },
  {
   "cell_type": "code",
   "execution_count": 5,
   "metadata": {},
   "outputs": [],
   "source": [
    "from Model import *"
   ]
  },
  {
   "cell_type": "code",
   "execution_count": 6,
   "metadata": {},
   "outputs": [
    {
     "name": "stdout",
     "output_type": "stream",
     "text": [
      "Loading the pretrained model...\n"
     ]
    }
   ],
   "source": [
    "model = Model.Initialize('vae', None, pretrained_path='./../../Models/scvis_diabetes.pt')"
   ]
  },
  {
   "cell_type": "code",
   "execution_count": 7,
   "metadata": {},
   "outputs": [],
   "source": [
    "# import pandas as pd\n",
    "x = pd.read_csv('./../../Data/diabetes/X.tsv', sep=\"\\t\").to_numpy()\n",
    "y = pd.read_csv('./../../Data/diabetes/y.tsv', sep=\"\\t\").to_numpy().tolist()"
   ]
  },
  {
   "cell_type": "code",
   "execution_count": 8,
   "metadata": {},
   "outputs": [],
   "source": [
    "data_rep = model.Encode(x)"
   ]
  },
  {
   "cell_type": "code",
   "execution_count": 11,
   "metadata": {},
   "outputs": [],
   "source": [
    "colors = []\n",
    "for label in y:\n",
    "    if label == 1.0:\n",
    "        colors.append('red')\n",
    "    else:\n",
    "        colors.append('blue')"
   ]
  },
  {
   "cell_type": "code",
   "execution_count": 12,
   "metadata": {},
   "outputs": [
    {
     "data": {
      "text/plain": [
       "<matplotlib.collections.PathCollection at 0x7fe78beb8990>"
      ]
     },
     "execution_count": 12,
     "metadata": {},
     "output_type": "execute_result"
    },
    {
     "data": {
      "image/png": "[encoded data removed]",
      "text/plain": [
       "<Figure size 432x288 with 1 Axes>"
      ]
     },
     "metadata": {
      "needs_background": "light"
     },
     "output_type": "display_data"
    }
   ],
   "source": [
    "import matplotlib.pyplot as plt\n",
    "plt.scatter(data_rep[:,0], data_rep[:,1], c=colors, s=2)"
   ]
  },
  {
   "cell_type": "code",
   "execution_count": 13,
   "metadata": {},
   "outputs": [],
   "source": [
    "from sklearn.cluster import KMeans\n",
    "num_clusters = 3\n",
    "\n",
    "kmeans = KMeans(n_clusters = num_clusters).fit(data_rep)"
   ]
  },
  {
   "cell_type": "code",
   "execution_count": 14,
   "metadata": {},
   "outputs": [],
   "source": [
    "from eldr.plotter.myplot import *\n",
    "means, centers, indices = plot_groups(x, data_rep.numpy(), num_clusters, kmeans.labels_, name = \"./synth-rep.png\")"
   ]
  },
  {
   "cell_type": "code",
   "execution_count": 19,
   "metadata": {},
   "outputs": [
    {
     "name": "stderr",
     "output_type": "stream",
     "text": [
      "./../../eldr/plotter/myplot.py:105: MatplotlibDeprecationWarning: Since 3.2, mpl_toolkits's own colorbar implementation is deprecated; it will be removed two minor releases later.  Set the 'mpl_toolkits.legacy_colorbar' rcParam to False to use Matplotlib's default colorbar implementation and suppress this deprecation warning.\n",
      "  ax.cax.colorbar(im)\n",
      "/home2/tirthankar/miniconda3_1/envs/rajeev3/lib/python3.7/site-packages/mpl_toolkits/axes_grid1/axes_grid.py:46: MatplotlibDeprecationWarning: \n",
      "The mpl_toolkits.axes_grid1.colorbar module was deprecated in Matplotlib 3.2 and will be removed two minor releases later. Use matplotlib.colorbar instead.\n",
      "  from .colorbar import Colorbar\n"
     ]
    }
   ],
   "source": [
    "# Evaluate the explanations\n",
    "from eldr.explain.explain_cs_copy import *\n",
    "from eldr.plotter.myplot import *\n",
    "k = 5\n",
    "epsilon = 0.34\n",
    "import torch\n",
    "feature_names = list(pd.read_csv('./../../Data/diabetes/diabetes.csv').columns)[:-1]\n",
    "\n",
    "deltas_ = np.load(\"./deltas/deltas\" + str(k) + \".npy\")\n",
    "np.set_printoptions(suppress=True)\n",
    "\n",
    "Explainer = Explain(model, means, centers, dist='l2')\n",
    "\n",
    "a, b = Explainer.metrics(torch.tensor(x), indices, torch.from_numpy(deltas_), epsilon, k = k)\n",
    "\n",
    "plot_metrics(a, b, name = \"diabetes-metrics.png\")\n",
    "\n",
    "plot_explanation(model, x, data_rep, indices, deltas_, a, b, 0, 1, k = k, num_points = 25, name = \"diabetes-0to1.png\", feature_names = feature_names)\n",
    "\n",
    "plot_explanation(model, x, data_rep, indices, deltas_, a, b, 1, 0, k = k,  num_points = 25, name = \"diabetes-1to0.png\", feature_names = feature_names)\n",
    "plot_explanation(model, x, data_rep, indices, deltas_, a, b, 0, 2, k = k, num_points = 25, name = \"diabetes-0to2.png\", feature_names = feature_names)\n",
    "plot_explanation(model, x, data_rep, indices, deltas_, a, b, 1, 2, k = k,  num_points = 25, name = \"diabetes-1to2.png\", feature_names = feature_names)\n",
    "plot_explanation(model, x, data_rep, indices, deltas_, a, b, 2, 1, k = k,  num_points = 25, name = \"diabetes-2to1.png\", feature_names = feature_names)"
   ]
  },
  {
   "cell_type": "code",
   "execution_count": 16,
   "metadata": {},
   "outputs": [
    {
     "name": "stdout",
     "output_type": "stream",
     "text": [
      "[[ 1.          0.76350439  0.83801066  0.75791002  0.82750543]\n",
      " [ 3.          0.8010234   0.88275895  0.76272148  0.85335395]\n",
      " [ 5.          0.79991329  0.8796183   0.77326044  0.86664531]\n",
      " [ 7.          0.80347073  0.8758975   0.77511383  0.87596171]\n",
      " [ 9.          0.79938259  0.8689583   0.77854456  0.87405911]\n",
      " [11.          0.80417143  0.88537628  0.77854456  0.87405911]\n",
      " [13.          0.80447529  0.87912303  0.77854456  0.87405911]]\n"
     ]
    }
   ],
   "source": [
    "out = np.loadtxt(\"out.csv\", delimiter = \",\")\n",
    "    \n",
    "print(out)"
   ]
  },
  {
   "cell_type": "markdown",
   "metadata": {},
   "source": [
    "#### Classification"
   ]
  },
  {
   "cell_type": "code",
   "execution_count": 20,
   "metadata": {},
   "outputs": [],
   "source": [
    "class_data = []\n",
    "class_label = []\n",
    "for i, ind in enumerate(indices):\n",
    "    class_data.extend(x[ind])\n",
    "    class_label.extend([i]*len(ind))"
   ]
  },
  {
   "cell_type": "code",
   "execution_count": 21,
   "metadata": {},
   "outputs": [],
   "source": [
    "from sklearn.model_selection import train_test_split\n",
    "from sklearn.multiclass import OneVsOneClassifier\n",
    "from sklearn.svm import LinearSVC\n",
    "X = class_data\n",
    "y = class_label\n",
    "X_train, X_test, y_train, y_test = train_test_split(X, y, test_size=0.33, shuffle=True, random_state=0)\n",
    "clf = OneVsOneClassifier(LinearSVC(random_state=0)).fit(X_train, y_train)"
   ]
  },
  {
   "cell_type": "code",
   "execution_count": 22,
   "metadata": {},
   "outputs": [],
   "source": [
    "estimators = clf.estimators_"
   ]
  },
  {
   "cell_type": "code",
   "execution_count": 35,
   "metadata": {
    "scrolled": true
   },
   "outputs": [
    {
     "name": "stdout",
     "output_type": "stream",
     "text": [
      "Class  0\n",
      "Pregnancies , Score: 0.0039\n",
      "Glucose , Score: 0.0013\n",
      "BloodPressure , Score: 0.0005\n",
      "SkinThickness , Score: 0.3095\n",
      "Insulin , Score: 0.0180\n",
      "BMI , Score: -0.0003\n",
      "DiabetesPedigreeFunction , Score: 0.0000\n",
      "Age , Score: 0.0112\n"
     ]
    },
    {
     "data": {
      "image/png": "[encoded data removed]",
      "text/plain": [
       "<Figure size 432x288 with 1 Axes>"
      ]
     },
     "metadata": {
      "needs_background": "light"
     },
     "output_type": "display_data"
    },
    {
     "name": "stdout",
     "output_type": "stream",
     "text": [
      "Class  1\n",
      "Pregnancies , Score: 0.0704\n",
      "Glucose , Score: 0.0117\n",
      "BloodPressure , Score: 0.0034\n",
      "SkinThickness , Score: -0.0021\n",
      "Insulin , Score: -0.0008\n",
      "BMI , Score: 0.0037\n",
      "DiabetesPedigreeFunction , Score: 0.0021\n",
      "Age , Score: 0.1677\n"
     ]
    },
    {
     "data": {
      "image/png": "[encoded data removed]",
      "text/plain": [
       "<Figure size 432x288 with 1 Axes>"
      ]
     },
     "metadata": {
      "needs_background": "light"
     },
     "output_type": "display_data"
    },
    {
     "name": "stdout",
     "output_type": "stream",
     "text": [
      "Class  2\n",
      "Pregnancies , Score: 0.0052\n",
      "Glucose , Score: -0.0013\n",
      "BloodPressure , Score: 0.0018\n",
      "SkinThickness , Score: -0.2980\n",
      "Insulin , Score: -0.0216\n",
      "BMI , Score: -0.0021\n",
      "DiabetesPedigreeFunction , Score: 0.0026\n",
      "Age , Score: 0.0047\n"
     ]
    },
    {
     "data": {
      "image/png": "[encoded data removed]",
      "text/plain": [
       "<Figure size 432x288 with 1 Axes>"
      ]
     },
     "metadata": {
      "needs_background": "light"
     },
     "output_type": "display_data"
    }
   ],
   "source": [
    "from sklearn.inspection import permutation_importance\n",
    "for i, clf in enumerate(estimators):\n",
    "    print(\"Class \", i)\n",
    "    results = permutation_importance(clf, X, y, scoring='accuracy')\n",
    "    importance = results.importances_mean\n",
    "    for feature_name, v in zip(feature_names, importance):\n",
    "        print('{} , Score: {:.4f}' .format(feature_name,v))\n",
    "    # plot feature importance\n",
    "    plt.bar([x for x in range(len(importance))], importance)\n",
    "    plt.title(\"class \" + str(i))\n",
    "    plt.xticks(range(len(feature_names)), labels=feature_names, rotation=90, fontsize=8)\n",
    "    plt.show()"
   ]
  },
  {
   "cell_type": "code",
   "execution_count": null,
   "metadata": {},
   "outputs": [],
   "source": [
    "estimators"
   ]
  }
 ],
 "metadata": {
  "kernelspec": {
   "display_name": "rajeev3",
   "language": "python",
   "name": "rajeev3"
  },
  "language_info": {
   "codemirror_mode": {
    "name": "ipython",
    "version": 3
   },
   "file_extension": ".py",
   "mimetype": "text/x-python",
   "name": "python",
   "nbconvert_exporter": "python",
   "pygments_lexer": "ipython3",
   "version": "3.7.9"
  }
 },
 "nbformat": 4,
 "nbformat_minor": 4
}
